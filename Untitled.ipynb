{
 "cells": [
  {
   "cell_type": "code",
   "execution_count": 2,
   "id": "opposite-tradition",
   "metadata": {},
   "outputs": [],
   "source": [
    "def py2_or_py3():\n",
    "    major = sys.version_info.major\n",
    "    if major < 3:\n",
    "        \"\"\"\n",
    "        Docstringの誤った例。DocStringはモジュールの冒頭と関数、クラス、メソッドの定義でのみ使える。\n",
    "        Python1.xでの実行は想定しない。\n",
    "        \"\"\"\n",
    "        return \"Python2\"\n",
    "    else:\n",
    "        return \"Python3\""
   ]
  },
  {
   "cell_type": "code",
   "execution_count": 4,
   "id": "solid-humidity",
   "metadata": {},
   "outputs": [],
   "source": [
    "def py2_or_py3():\n",
    "    major = sys.version_info.major\n",
    "    if major < 3:\n",
    "        # これはコメントの正しい使い方。Python1.xでの実行は想定しない。\n",
    "        return \"Python2\"\n",
    "    else:\n",
    "        return \"Python3\""
   ]
  },
  {
   "cell_type": "code",
   "execution_count": null,
   "id": "adapted-antarctica",
   "metadata": {},
   "outputs": [],
   "source": [
    "def py2_or_py3():\n",
    "        \"\"\"\n",
    "        Docstringの正しい例。\n",
    "        \"\"\"\n",
    "    major = sys.version_info.major\n",
    "    if major < 3:\n",
    "        return \"Python2\"\n",
    "    else:\n",
    "        return \"Python3\""
   ]
  }
 ],
 "metadata": {
  "kernelspec": {
   "display_name": "Python 3",
   "language": "python",
   "name": "python3"
  },
  "language_info": {
   "codemirror_mode": {
    "name": "ipython",
    "version": 3
   },
   "file_extension": ".py",
   "mimetype": "text/x-python",
   "name": "python",
   "nbconvert_exporter": "python",
   "pygments_lexer": "ipython3",
   "version": "3.8.5"
  }
 },
 "nbformat": 4,
 "nbformat_minor": 5
}
