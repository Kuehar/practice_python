{
 "cells": [
  {
   "cell_type": "code",
   "execution_count": 25,
   "id": "clinical-romance",
   "metadata": {},
   "outputs": [
    {
     "name": "stdout",
     "output_type": "stream",
     "text": [
      "linear_searchは4.0531158447265625e-06秒かかりました\n",
      "binary_search_iterativeは3.814697265625e-06秒かかりました\n",
      "binary_search_recursiveは0.0秒かかりました\n",
      "binary_search_recursiveは2.193450927734375e-05秒かかりました\n",
      "binary_search_recursiveは3.695487976074219e-05秒かかりました\n",
      "binary_search_recursiveは5.817413330078125e-05秒かかりました\n"
     ]
    },
    {
     "data": {
      "text/plain": [
       "True"
      ]
     },
     "execution_count": 25,
     "metadata": {},
     "output_type": "execute_result"
    }
   ],
   "source": [
    "from functools import wraps\n",
    "import time\n",
    "\n",
    "def stop_watch(func) :\n",
    "    @wraps(func)\n",
    "    def wrapper(*args, **kargs) :\n",
    "        start = time.time()\n",
    "        result = func(*args,**kargs)\n",
    "        process_time =  time.time() - start\n",
    "        print(f\"{func.__name__}は{process_time}秒かかりました\")\n",
    "        return result\n",
    "    return wrapper\n",
    "\n",
    "\n",
    "data = [2,5,7,9,10,18,24,26,36,39,41,42,58]\n",
    "target = 41\n",
    "\n",
    "# Linear\n",
    "@stop_watch\n",
    "def linear_search(data,target):\n",
    "    for i in range(len(data)):\n",
    "        if data[i] == target:\n",
    "            return True\n",
    "    return False\n",
    "\n",
    "\n",
    "# binary\n",
    "@stop_watch\n",
    "def binary_search_iterative(data,target):\n",
    "    low = 0\n",
    "    high = len(data) - 1\n",
    "    \n",
    "    while low <= high:\n",
    "        mid = (low+high)//2\n",
    "        if target == data[mid]:\n",
    "            return True\n",
    "        elif target >= data[mid]:\n",
    "            low = mid + 1 \n",
    "        else:\n",
    "            high = mid -1\n",
    "    return False\n",
    "\n",
    "@stop_watch\n",
    "def binary_search_recursive(data,target,low,high):\n",
    "    if low > high:\n",
    "        return False\n",
    "    else:\n",
    "        mid = (low+high) // 2\n",
    "        if target == data[mid]:\n",
    "            return True\n",
    "        elif target < data[mid]:\n",
    "            return binary_search_recursive(data,target,low,mid-1)\n",
    "        else:\n",
    "            return binary_search_recursive(data,target,mid+1,high)\n",
    "\n",
    "        \n",
    "linear_search(data,target)        \n",
    "binary_search_iterative(data,target)\n",
    "binary_search_recursive(data,target,0,len(data)-1)"
   ]
  }
 ],
 "metadata": {
  "kernelspec": {
   "display_name": "Python 3",
   "language": "python",
   "name": "python3"
  },
  "language_info": {
   "codemirror_mode": {
    "name": "ipython",
    "version": 3
   },
   "file_extension": ".py",
   "mimetype": "text/x-python",
   "name": "python",
   "nbconvert_exporter": "python",
   "pygments_lexer": "ipython3",
   "version": "3.8.5"
  }
 },
 "nbformat": 4,
 "nbformat_minor": 5
}
