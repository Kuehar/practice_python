{
 "cells": [
  {
   "cell_type": "code",
   "execution_count": 6,
   "id": "annoying-squad",
   "metadata": {},
   "outputs": [
    {
     "data": {
      "text/plain": [
       "'MISSSSSSS!!!!!!!!!'"
      ]
     },
     "execution_count": 6,
     "metadata": {},
     "output_type": "execute_result"
    }
   ],
   "source": [
    "# P.53\n",
    "\"\"\"\n",
    ":=はWarlus operator(セイウチ演算子)と呼ばれ、if文やループの条件式中などで変数への値の導入が行える。\n",
    "式が使えつ場所であればいつでも利用可能。\n",
    "\"\"\"\n",
    "import random\n",
    "def lottery(books):\n",
    "    # itemsへの代入が行われる\n",
    "    if item  := random.choice(books):\n",
    "            return item\n",
    "    else:\n",
    "        return \"MISSSSSSS!!!!!!!!!\"\n",
    "    \n",
    "\n",
    "books = [\"notebook\",\"skechbook\",None,None,None]\n",
    "# 実行ごとに結果は異なる\n",
    "lottery(books)"
   ]
  },
  {
   "cell_type": "code",
   "execution_count": null,
   "id": "chronic-anatomy",
   "metadata": {},
   "outputs": [],
   "source": [
    "def lottery(goods):\n",
    "    item = random.choice(goods)\n",
    "    "
   ]
  }
 ],
 "metadata": {
  "kernelspec": {
   "display_name": "Python 3",
   "language": "python",
   "name": "python3"
  },
  "language_info": {
   "codemirror_mode": {
    "name": "ipython",
    "version": 3
   },
   "file_extension": ".py",
   "mimetype": "text/x-python",
   "name": "python",
   "nbconvert_exporter": "python",
   "pygments_lexer": "ipython3",
   "version": "3.8.5"
  }
 },
 "nbformat": 4,
 "nbformat_minor": 5
}
