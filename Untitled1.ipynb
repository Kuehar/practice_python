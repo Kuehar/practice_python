{
 "cells": [
  {
   "cell_type": "code",
   "execution_count": 3,
   "id": "encouraging-expression",
   "metadata": {},
   "outputs": [
    {
     "ename": "SyntaxError",
     "evalue": "invalid syntax (<ipython-input-3-52b78641460b>, line 10)",
     "output_type": "error",
     "traceback": [
      "\u001b[0;36m  File \u001b[0;32m\"<ipython-input-3-52b78641460b>\"\u001b[0;36m, line \u001b[0;32m10\u001b[0m\n\u001b[0;31m    return memo[n] = self.fibo(n-1) + self.fibo(n-2)\u001b[0m\n\u001b[0m                   ^\u001b[0m\n\u001b[0;31mSyntaxError\u001b[0m\u001b[0;31m:\u001b[0m invalid syntax\n"
     ]
    }
   ],
   "source": [
    "def fibo(n):\n",
    "    if (n == 0):\n",
    "        return 0\n",
    "    elif n == 1:\n",
    "        return 1\n",
    "    memo = [0]*(n+1)\n",
    "    if memo[n] != 1:\n",
    "        return memo[n]\n",
    "    \n",
    "    return memo[n] = fibo(n-1) + fibo(n-2)\n",
    "\n",
    "\n",
    "fibo(10)"
   ]
  }
 ],
 "metadata": {
  "kernelspec": {
   "display_name": "Python 3",
   "language": "python",
   "name": "python3"
  },
  "language_info": {
   "codemirror_mode": {
    "name": "ipython",
    "version": 3
   },
   "file_extension": ".py",
   "mimetype": "text/x-python",
   "name": "python",
   "nbconvert_exporter": "python",
   "pygments_lexer": "ipython3",
   "version": "3.8.5"
  }
 },
 "nbformat": 4,
 "nbformat_minor": 5
}
