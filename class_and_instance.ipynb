{
 "cells": [
  {
   "cell_type": "code",
   "execution_count": 3,
   "id": "composite-necessity",
   "metadata": {},
   "outputs": [
    {
     "name": "stdout",
     "output_type": "stream",
     "text": [
      "method\n",
      "function\n"
     ]
    }
   ],
   "source": [
    "# P.126\n",
    "class Klass:\n",
    "    def some_method(self):\n",
    "        print(\"method\")\n",
    "        \n",
    "    def some_function(self):\n",
    "        print(\"function\")\n",
    "        \n",
    "        \n",
    "kls = Klass()\n",
    "kls.some_method()\n",
    "kls.some_function()"
   ]
  },
  {
   "cell_type": "code",
   "execution_count": 8,
   "id": "irish-lewis",
   "metadata": {},
   "outputs": [
    {
     "data": {
      "text/plain": [
       "True"
      ]
     },
     "execution_count": 8,
     "metadata": {},
     "output_type": "execute_result"
    }
   ],
   "source": [
    "\"\"\"\n",
    "P.124\n",
    "class クラス名(基底クラス名):\n",
    "    def メソッド名(引数):\n",
    "        メソッドで実行したい処理\n",
    "        return 戻り値\n",
    "\"\"\"\n",
    "\n",
    "# クラスの定義\n",
    "class Page:\n",
    "    def __init__(self,num,content):\n",
    "        self.num = num # ページ番号\n",
    "        self.content = content # ページ内容\n",
    "        \n",
    "    def output(self):\n",
    "        return f\"{self.content}\"\n",
    "    \n",
    "# インスタンス化\n",
    "title_page = Page(0,\"Python Practice Book\") \n",
    "type(title_page)\n",
    "# __main__.Page\n",
    "\n",
    "isinstance(title_page,Page)\n",
    "# -> True\n"
   ]
  },
  {
   "cell_type": "code",
   "execution_count": 14,
   "id": "whole-ukraine",
   "metadata": {},
   "outputs": [
    {
     "data": {
      "text/plain": [
       "'first page'"
      ]
     },
     "execution_count": 14,
     "metadata": {},
     "output_type": "execute_result"
    }
   ],
   "source": [
    "# インスタンスの初期化 P.128\n",
    "# __init__はインスタンスの初期化を行うメソッド。\n",
    "# JavaやC++のコンストラクタ(コンストラクタでインスタンスの初期化が行われる)とは違い、__init__ではインスタンスが生成された後に呼び出される。故にイニシャライザ。\n",
    "# コンストラクタに該当するメソッドはnew()\n",
    "class Page:\n",
    "    def __init__(self,num,content,section=None):\n",
    "        self.num = num\n",
    "        self.content = content\n",
    "        self.section = section\n",
    "    def output(self):\n",
    "        return f\"{self.content}\"\n",
    "    \n",
    "# インスタンス作成    \n",
    "title_page = Page(0,\"Python Practice Book\")\n",
    "title_page.section # sectionはNone\n",
    "title_page.output()\n",
    "\n",
    "# sectionを指定して別のインスタンスを作成\n",
    "first_page = Page(1,\"first page\",1)\n",
    "first_page.section # sectionが指定されている\n",
    "# -> 1\n",
    "first_page.output()\n",
    "# -> 'first page'"
   ]
  }
 ],
 "metadata": {
  "kernelspec": {
   "display_name": "Python 3",
   "language": "python",
   "name": "python3"
  },
  "language_info": {
   "codemirror_mode": {
    "name": "ipython",
    "version": 3
   },
   "file_extension": ".py",
   "mimetype": "text/x-python",
   "name": "python",
   "nbconvert_exporter": "python",
   "pygments_lexer": "ipython3",
   "version": "3.8.5"
  }
 },
 "nbformat": 4,
 "nbformat_minor": 5
}
