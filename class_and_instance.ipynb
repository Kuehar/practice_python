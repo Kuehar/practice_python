{
 "cells": [
  {
   "cell_type": "code",
   "execution_count": 3,
   "id": "composite-necessity",
   "metadata": {},
   "outputs": [
    {
     "name": "stdout",
     "output_type": "stream",
     "text": [
      "method\n",
      "function\n"
     ]
    }
   ],
   "source": [
    "# P.126\n",
    "class Klass:\n",
    "    def some_method(self):\n",
    "        print(\"method\")\n",
    "        \n",
    "    def some_function(self):\n",
    "        print(\"function\")\n",
    "        \n",
    "        \n",
    "kls = Klass()\n",
    "kls.some_method()\n",
    "kls.some_function()"
   ]
  },
  {
   "cell_type": "code",
   "execution_count": 4,
   "id": "integral-reservoir",
   "metadata": {},
   "outputs": [
    {
     "ename": "SyntaxError",
     "evalue": "invalid syntax (<ipython-input-4-aaeaf3ef1918>, line 16)",
     "output_type": "error",
     "traceback": [
      "\u001b[0;36m  File \u001b[0;32m\"<ipython-input-4-aaeaf3ef1918>\"\u001b[0;36m, line \u001b[0;32m16\u001b[0m\n\u001b[0;31m    return f.\"{self.content}\"\u001b[0m\n\u001b[0m             ^\u001b[0m\n\u001b[0;31mSyntaxError\u001b[0m\u001b[0;31m:\u001b[0m invalid syntax\n"
     ]
    }
   ],
   "source": [
    "\"\"\"\n",
    "P.124\n",
    "class クラス名(基底クラス名):\n",
    "    def メソッド名(引数):\n",
    "        メソッドで実行したい処理\n",
    "        return 戻り値\n",
    "\"\"\"\n",
    "\n",
    "# クラスの定義\n",
    "class Page:\n",
    "    def __init__(self,num,content):\n",
    "        self.num = num # ページ番号\n",
    "        self.content = content # ページ内容\n",
    "        \n",
    "    def output(self):\n",
    "        return f.\"{self.content}\"\n",
    "    \n",
    "# インスタンス化\n",
    "title_page = Page(0,\"Python Practice Book\") \n",
    "type(title_page)"
   ]
  }
 ],
 "metadata": {
  "kernelspec": {
   "display_name": "Python 3",
   "language": "python",
   "name": "python3"
  },
  "language_info": {
   "codemirror_mode": {
    "name": "ipython",
    "version": 3
   },
   "file_extension": ".py",
   "mimetype": "text/x-python",
   "name": "python",
   "nbconvert_exporter": "python",
   "pygments_lexer": "ipython3",
   "version": "3.8.5"
  }
 },
 "nbformat": 4,
 "nbformat_minor": 5
}
