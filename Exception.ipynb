{
 "cells": [
  {
   "cell_type": "code",
   "execution_count": 4,
   "id": "federal-universe",
   "metadata": {},
   "outputs": [
    {
     "data": {
      "text/plain": [
       "'範囲外です'"
      ]
     },
     "execution_count": 4,
     "metadata": {},
     "output_type": "execute_result"
    }
   ],
   "source": [
    "def get_books(index):\n",
    "    items = [\"note\",\"notebook\",\"sketchbook\"]\n",
    "    try:\n",
    "        return items[index]\n",
    "    except IndexError:\n",
    "        return \"範囲外です\"\n",
    "    \n",
    "get_books(10) # IndexErrorを適切に処理できている -> '範囲外です'"
   ]
  },
  {
   "cell_type": "code",
   "execution_count": 8,
   "id": "catholic-wilderness",
   "metadata": {},
   "outputs": [
    {
     "ename": "TypeError",
     "evalue": "list indices must be integers or slices, not str",
     "output_type": "error",
     "traceback": [
      "\u001b[0;31m---------------------------------------------------------------------------\u001b[0m",
      "\u001b[0;31mTypeError\u001b[0m                                 Traceback (most recent call last)",
      "\u001b[0;32m<ipython-input-8-8c67f67b91f9>\u001b[0m in \u001b[0;36m<module>\u001b[0;34m\u001b[0m\n\u001b[1;32m      8\u001b[0m \u001b[0;34m\u001b[0m\u001b[0m\n\u001b[1;32m      9\u001b[0m \u001b[0mget_books\u001b[0m\u001b[0;34m(\u001b[0m\u001b[0;36m3\u001b[0m\u001b[0;34m)\u001b[0m\u001b[0;34m\u001b[0m\u001b[0;34m\u001b[0m\u001b[0m\n\u001b[0;32m---> 10\u001b[0;31m \u001b[0mget_books\u001b[0m\u001b[0;34m(\u001b[0m\u001b[0;34m\"3\"\u001b[0m\u001b[0;34m)\u001b[0m\u001b[0;34m\u001b[0m\u001b[0;34m\u001b[0m\u001b[0m\n\u001b[0m",
      "\u001b[0;32m<ipython-input-4-79a60ec4483c>\u001b[0m in \u001b[0;36mget_books\u001b[0;34m(index)\u001b[0m\n\u001b[1;32m      2\u001b[0m     \u001b[0mitems\u001b[0m \u001b[0;34m=\u001b[0m \u001b[0;34m[\u001b[0m\u001b[0;34m\"note\"\u001b[0m\u001b[0;34m,\u001b[0m\u001b[0;34m\"notebook\"\u001b[0m\u001b[0;34m,\u001b[0m\u001b[0;34m\"sketchbook\"\u001b[0m\u001b[0;34m]\u001b[0m\u001b[0;34m\u001b[0m\u001b[0;34m\u001b[0m\u001b[0m\n\u001b[1;32m      3\u001b[0m     \u001b[0;32mtry\u001b[0m\u001b[0;34m:\u001b[0m\u001b[0;34m\u001b[0m\u001b[0;34m\u001b[0m\u001b[0m\n\u001b[0;32m----> 4\u001b[0;31m         \u001b[0;32mreturn\u001b[0m \u001b[0mitems\u001b[0m\u001b[0;34m[\u001b[0m\u001b[0mindex\u001b[0m\u001b[0;34m]\u001b[0m\u001b[0;34m\u001b[0m\u001b[0;34m\u001b[0m\u001b[0m\n\u001b[0m\u001b[1;32m      5\u001b[0m     \u001b[0;32mexcept\u001b[0m \u001b[0mIndexError\u001b[0m\u001b[0;34m:\u001b[0m\u001b[0;34m\u001b[0m\u001b[0;34m\u001b[0m\u001b[0m\n\u001b[1;32m      6\u001b[0m         \u001b[0;32mreturn\u001b[0m \u001b[0;34m\"範囲外です\"\u001b[0m\u001b[0;34m\u001b[0m\u001b[0;34m\u001b[0m\u001b[0m\n",
      "\u001b[0;31mTypeError\u001b[0m: list indices must be integers or slices, not str"
     ]
    }
   ],
   "source": [
    "def get_book(index):\n",
    "    items = [\"note\",\"notebook\",\"sketchbook\"]\n",
    "    try:\n",
    "        return items[index]\n",
    "    except(IndexError,TypeError) as e:\n",
    "        print(f\"例外が発生しました:{e}\")\n",
    "        return \"範囲外です\"\n",
    "    \n",
    "get_books(3)\n",
    "get_books(\"3\")"
   ]
  },
  {
   "cell_type": "code",
   "execution_count": 9,
   "id": "speaking-connectivity",
   "metadata": {},
   "outputs": [
    {
     "ename": "SyntaxError",
     "evalue": "invalid syntax (<ipython-input-9-c69e0f89be4b>, line 7)",
     "output_type": "error",
     "traceback": [
      "\u001b[0;36m  File \u001b[0;32m\"<ipython-input-9-c69e0f89be4b>\"\u001b[0;36m, line \u001b[0;32m7\u001b[0m\n\u001b[0;31m    except UnsupportedOperation as e:\u001b[0m\n\u001b[0m    ^\u001b[0m\n\u001b[0;31mSyntaxError\u001b[0m\u001b[0;31m:\u001b[0m invalid syntax\n"
     ]
    }
   ],
   "source": [
    "from io import UnsupportedOperation\n",
    "\n",
    "f = open(\"some.txt\",\"w\")\n",
    "try:\n",
    "    # 書き込みモードなので読み込めない\n",
    "    f.read()\n",
    "    except UnsupportedOperation as e:\n",
    "        print(f\"例外が発生しました。:{e}\")\n",
    "    finally:\n",
    "        print(\"ファイルをクローズします。\")\n",
    "        f.close()"
   ]
  }
 ],
 "metadata": {
  "kernelspec": {
   "display_name": "Python 3",
   "language": "python",
   "name": "python3"
  },
  "language_info": {
   "codemirror_mode": {
    "name": "ipython",
    "version": 3
   },
   "file_extension": ".py",
   "mimetype": "text/x-python",
   "name": "python",
   "nbconvert_exporter": "python",
   "pygments_lexer": "ipython3",
   "version": "3.8.5"
  }
 },
 "nbformat": 4,
 "nbformat_minor": 5
}
