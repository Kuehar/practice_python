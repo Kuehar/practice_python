{
 "cells": [
  {
   "cell_type": "code",
   "execution_count": 1,
   "id": "recreational-distance",
   "metadata": {},
   "outputs": [
    {
     "name": "stdout",
     "output_type": "stream",
     "text": [
      "0\n",
      "1\n",
      "2\n",
      "3\n",
      "4\n",
      "5\n",
      "6\n",
      "7\n",
      "8\n",
      "9\n"
     ]
    }
   ],
   "source": [
    "# よくあるfor文\n",
    "for i in range(10):\n",
    "    print(i)"
   ]
  },
  {
   "cell_type": "code",
   "execution_count": 3,
   "id": "continued-track",
   "metadata": {},
   "outputs": [
    {
     "name": "stdout",
     "output_type": "stream",
     "text": [
      "1\n",
      "2\n",
      "3\n",
      "4\n"
     ]
    }
   ],
   "source": [
    "# よくあるfor文その2\n",
    "items = [1,2,3,4]\n",
    "for i in items:\n",
    "    print(i)"
   ]
  },
  {
   "cell_type": "code",
   "execution_count": 5,
   "id": "offensive-richmond",
   "metadata": {},
   "outputs": [
    {
     "name": "stdout",
     "output_type": "stream",
     "text": [
      "0番目の処理\n",
      "1番目の処理\n",
      "2番目の処理\n",
      "3番目の処理\n",
      "4番目の処理\n",
      "5番目の処理\n",
      "6番目の処理\n",
      "7番目の処理\n",
      "8番目の処理\n",
      "9番目の処理\n"
     ]
    }
   ],
   "source": [
    "# format済み文字列リテラルを使うfor文\n",
    "for i in range(10):\n",
    "    print(f'{i}番目の処理')"
   ]
  },
  {
   "cell_type": "code",
   "execution_count": 6,
   "id": "secret-independence",
   "metadata": {},
   "outputs": [
    {
     "name": "stdout",
     "output_type": "stream",
     "text": [
      "0番目の文字はs\n",
      "1番目の文字はt\n",
      "2番目の文字はr\n",
      "3番目の文字はe\n",
      "4番目の文字はn\n",
      "5番目の文字はg\n",
      "6番目の文字はt\n",
      "7番目の文字はh\n"
     ]
    }
   ],
   "source": [
    "\"\"\"\n",
    "enumerate関数を使うfor文\n",
    "渡されたイテラブルなオブジェクトの各要素と一緒に繰り返しのカウントも返す。\n",
    "カウントは0から始まるのでリストのインデックスに使用可能。\n",
    "ちなみにPythonは文字列もイテラブルなオブジェクト\n",
    "\"\"\"\n",
    "chars = \"strength\"\n",
    "for count,char in enumerate(chars):\n",
    "    print(f\"{count}番目の文字は{char}\")"
   ]
  },
  {
   "cell_type": "code",
   "execution_count": 8,
   "id": "gentle-ticket",
   "metadata": {},
   "outputs": [
    {
     "name": "stdout",
     "output_type": "stream",
     "text": [
      "奇数の値を含めてください。\n",
      "奇数の値を含めてください。\n",
      "奇数の値を含めてください。\n",
      "奇数の値を含めてください。\n"
     ]
    }
   ],
   "source": [
    "# Pythonではfor文でelseを使える！！\n",
    "nums = [2,4,6,8]\n",
    "for n in nums:\n",
    "    if n % 2 == 1:\n",
    "        break\n",
    "    else:\n",
    "        print(\"奇数の値を含めてください。\")"
   ]
  },
  {
   "cell_type": "code",
   "execution_count": 13,
   "id": "mature-change",
   "metadata": {},
   "outputs": [
    {
     "name": "stdout",
     "output_type": "stream",
     "text": [
      "奇数の値を含めてください。\n",
      "奇数の値を含めてください。\n"
     ]
    }
   ],
   "source": [
    "# Pythonではfor文でelseを使える！！\n",
    "nums = [2,4,5,6]\n",
    "for n in nums:\n",
    "    if n % 2 == 1:\n",
    "        break\n",
    "    else:\n",
    "        print(\"奇数の値を含めてください。\")\n",
    "        \n",
    "# 奇数の値を含めてください。\n",
    "# 奇数の値を含めてください。"
   ]
  },
  {
   "cell_type": "code",
   "execution_count": null,
   "id": "endangered-armenia",
   "metadata": {},
   "outputs": [],
   "source": []
  }
 ],
 "metadata": {
  "kernelspec": {
   "display_name": "Python 3",
   "language": "python",
   "name": "python3"
  },
  "language_info": {
   "codemirror_mode": {
    "name": "ipython",
    "version": 3
   },
   "file_extension": ".py",
   "mimetype": "text/x-python",
   "name": "python",
   "nbconvert_exporter": "python",
   "pygments_lexer": "ipython3",
   "version": "3.8.5"
  }
 },
 "nbformat": 4,
 "nbformat_minor": 5
}
