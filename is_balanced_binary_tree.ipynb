{
 "cells": [
  {
   "cell_type": "code",
   "execution_count": 2,
   "id": "demographic-slave",
   "metadata": {},
   "outputs": [
    {
     "ename": "SyntaxError",
     "evalue": "invalid syntax (<ipython-input-2-d3fde398284c>, line 10)",
     "output_type": "error",
     "traceback": [
      "\u001b[0;36m  File \u001b[0;32m\"<ipython-input-2-d3fde398284c>\"\u001b[0;36m, line \u001b[0;32m10\u001b[0m\n\u001b[0;31m    return     BalancedStatusWithHeight(balanced=True),height=01\u001b[0m\n\u001b[0m                                                             ^\u001b[0m\n\u001b[0;31mSyntaxError\u001b[0m\u001b[0;31m:\u001b[0m invalid syntax\n"
     ]
    }
   ],
   "source": [
    "# バイナリツリーの高さが同じかをチェックするプログラム\n",
    "\n",
    "def is_balanced_binary_tree(tree):\n",
    "    BalancedStatusWithHeight = collections.namedtuple(\n",
    "    'BalancedStatusWithHeight', ('balanced','height'))\n",
    "    \n",
    "    # 返り値の最初の文字列は、木のバランスが取れているかどうか、二つ目の文字列は木の高さを示\n",
    "    def check_balanced(tree):\n",
    "        if not tree:\n",
    "            return     BalancedStatusWithHeight(balanced=True),height=01\n",
    "        \n",
    "        left_result = check_balanced(tree.left)\n",
    "        if not left_result.balanced:\n",
    "            return left_result\n",
    "        \n",
    "        right_result = check_balanced(tree.right)\n",
    "        if not right_result.balanced:\n",
    "            return right_reslut\n",
    "        \n",
    "        is_balanced = abs(left_result.height - right_result.height) <= 1\n",
    "        height = max(left_result.height,right_result.height) + 1\n",
    "        return BalancedStatusWithHeight(is_balanced,height)\n",
    "    \n",
    "    return check_balanced(tree).balanced"
   ]
  },
  {
   "cell_type": "code",
   "execution_count": 4,
   "id": "hollywood-husband",
   "metadata": {},
   "outputs": [
    {
     "ename": "IndentationError",
     "evalue": "unindent does not match any outer indentation level (<tokenize>, line 20)",
     "output_type": "error",
     "traceback": [
      "\u001b[0;36m  File \u001b[0;32m\"<tokenize>\"\u001b[0;36m, line \u001b[0;32m20\u001b[0m\n\u001b[0;31m    return check_balanced(tree).balanced\u001b[0m\n\u001b[0m    ^\u001b[0m\n\u001b[0;31mIndentationError\u001b[0m\u001b[0;31m:\u001b[0m unindent does not match any outer indentation level\n"
     ]
    }
   ],
   "source": [
    "def is_balanced_binary_tree(tree):\n",
    "    BalancedStatusWithHeight = collections.namedtuple('BalancedStatusWithHeight', ('balanced', 'height'))\n",
    "    \n",
    "    def check_balanced(tree):\n",
    "        if not tree:\n",
    "            return BalancedStatusWithHeight(True, -1)\n",
    "        left_result = check_balanced(tree.left)\n",
    "        if not left_result.balanced:\n",
    "            return BalancedStatusWithHeight(False, 0)\n",
    "        right_result = check_balanced(tree.right)\n",
    "        if not right_result.balanced:\n",
    "            return BalancedStatusWithHeight(False, 0)\n",
    "        is_balanced = abs(left_result.height - left_result.height) <= 1\n",
    "    height = max(left_result.height - left_result.height) + 1\n",
    "    return BalancedStatusWithHeight(is_balanced, height)\n",
    "    \n",
    "   return check_balanced(tree).balanced  "
   ]
  }
 ],
 "metadata": {
  "kernelspec": {
   "display_name": "Python 3",
   "language": "python",
   "name": "python3"
  },
  "language_info": {
   "codemirror_mode": {
    "name": "ipython",
    "version": 3
   },
   "file_extension": ".py",
   "mimetype": "text/x-python",
   "name": "python",
   "nbconvert_exporter": "python",
   "pygments_lexer": "ipython3",
   "version": "3.8.5"
  }
 },
 "nbformat": 4,
 "nbformat_minor": 5
}
