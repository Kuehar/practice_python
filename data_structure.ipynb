{
 "cells": [
  {
   "cell_type": "code",
   "execution_count": 3,
   "id": "wound-august",
   "metadata": {},
   "outputs": [
    {
     "name": "stdout",
     "output_type": "stream",
     "text": [
      "book\n"
     ]
    },
    {
     "data": {
      "text/plain": [
       "'None'"
      ]
     },
     "execution_count": 3,
     "metadata": {},
     "output_type": "execute_result"
    }
   ],
   "source": [
    "# None\n",
    "None\n",
    "str(print(\"book\")) # ->'None'"
   ]
  },
  {
   "cell_type": "code",
   "execution_count": 10,
   "id": "metropolitan-baptist",
   "metadata": {},
   "outputs": [
    {
     "data": {
      "text/plain": [
       "{'note': 1, 'book': 4}"
      ]
     },
     "execution_count": 10,
     "metadata": {},
     "output_type": "execute_result"
    }
   ],
   "source": [
    "# Learning about dict\n",
    "items = {'note':1,'notebook':2,'sketchbook':3}\n",
    "type(items) # -> dict\n",
    "\n",
    "# 要素の追加\n",
    "items['book'] = 4\n",
    "\n",
    "# {'note': 1, 'notebook': 2, 'sketchbook': 3, 'book': 4}\n",
    "# items\n",
    "\n",
    "items.pop('notebook')\n",
    "\n",
    "# {'note': 1, 'sketchbook': 3, 'book': 4}\n",
    "# items\n",
    "\n",
    "del items['sketchbook']\n",
    "\n",
    "# {'note': 1, 'book': 4}\n",
    "items"
   ]
  }
 ],
 "metadata": {
  "kernelspec": {
   "display_name": "Python 3",
   "language": "python",
   "name": "python3"
  },
  "language_info": {
   "codemirror_mode": {
    "name": "ipython",
    "version": 3
   },
   "file_extension": ".py",
   "mimetype": "text/x-python",
   "name": "python",
   "nbconvert_exporter": "python",
   "pygments_lexer": "ipython3",
   "version": "3.8.5"
  }
 },
 "nbformat": 4,
 "nbformat_minor": 5
}
