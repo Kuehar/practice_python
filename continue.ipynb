{
 "cells": [
  {
   "cell_type": "code",
   "execution_count": 3,
   "id": "guided-evaluation",
   "metadata": {},
   "outputs": [
    {
     "name": "stdout",
     "output_type": "stream",
     "text": [
      "notebook\n",
      "sketchbook\n"
     ]
    }
   ],
   "source": [
    "# P.52 for文のcontinue\n",
    "def list_books(items):\n",
    "    for item in items:\n",
    "        if \"book\"  not in item:\n",
    "            # 以降の処理をスキップしてループに移る\n",
    "            continue\n",
    "        print(item)\n",
    "list_books([\"note\",\"notebook\",\"sketchbook\"])"
   ]
  },
  {
   "cell_type": "code",
   "execution_count": 5,
   "id": "blank-division",
   "metadata": {},
   "outputs": [
    {
     "name": "stdout",
     "output_type": "stream",
     "text": [
      "notebook\n",
      "sketchbook\n"
     ]
    }
   ],
   "source": [
    "# P.52 while文のcontinue\n",
    "def list_books(items):\n",
    "    # copy関数は元のオブジェクトを変更せずにコピーしたい時に使うらしい。\n",
    "    copied = items.copy()\n",
    "    while copied:\n",
    "        # 先頭の要素を取り出す\n",
    "        item = copied.pop(0)\n",
    "        if \"book\" not in item:\n",
    "            # 以降の処理をスキップして次のループに移る\n",
    "            continue\n",
    "        print(item)\n",
    "        \n",
    "list_books([\"note\",\"notebook\",\"sketchbook\"])"
   ]
  }
 ],
 "metadata": {
  "kernelspec": {
   "display_name": "Python 3",
   "language": "python",
   "name": "python3"
  },
  "language_info": {
   "codemirror_mode": {
    "name": "ipython",
    "version": 3
   },
   "file_extension": ".py",
   "mimetype": "text/x-python",
   "name": "python",
   "nbconvert_exporter": "python",
   "pygments_lexer": "ipython3",
   "version": "3.8.5"
  }
 },
 "nbformat": 4,
 "nbformat_minor": 5
}
